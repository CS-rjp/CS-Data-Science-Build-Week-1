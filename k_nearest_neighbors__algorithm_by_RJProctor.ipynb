{
  "nbformat": 4,
  "nbformat_minor": 5,
  "metadata": {
    "kernelspec": {
      "display_name": "Python 3",
      "language": "python",
      "name": "python3"
    },
    "language_info": {
      "codemirror_mode": {
        "name": "ipython",
        "version": 3
      },
      "file_extension": ".py",
      "mimetype": "text/x-python",
      "name": "python",
      "nbconvert_exporter": "python",
      "pygments_lexer": "ipython3",
      "version": "3.8.5"
    },
    "colab": {
      "name": "k_nearest_neighbors__algorithm_by_RJProctor.ipynb",
      "provenance": [],
      "collapsed_sections": []
    }
  },
  "cells": [
    {
      "cell_type": "markdown",
      "metadata": {
        "id": "amended-sharing"
      },
      "source": [
        "# K-Nearest Neighbors Algorithim:  Python Class Implementation\n"
      ],
      "id": "amended-sharing"
    },
    {
      "cell_type": "code",
      "metadata": {
        "id": "banned-colon"
      },
      "source": [
        "# import libraries\n",
        "import requests\n",
        "from contextlib import closing\n",
        "import csv\n",
        "import pandas as pd\n",
        "from random import seed\n",
        "from scipy.spatial.distance import pdist\n",
        "import numpy as np\n",
        "\n",
        "from sklearn.model_selection import train_test_split\n",
        "from sklearn.preprocessing import MinMaxScaler\n",
        "from sklearn.neighbors import KNeighborsClassifier\n"
      ],
      "id": "banned-colon",
      "execution_count": 1,
      "outputs": []
    },
    {
      "cell_type": "code",
      "metadata": {
        "colab": {
          "base_uri": "https://localhost:8080/"
        },
        "id": "worse-thong",
        "outputId": "0df3adb1-7892-49a0-c159-7f25e760fbc3"
      },
      "source": [
        "file_name = \"IRIS.csv\"\n",
        "cols = ['sepal_length', 'sepal_width', 'petal_length', 'petal_width', 'class']\n",
        "dataframe = pd.read_csv(file_name, names=cols, skiprows=1)\n",
        "dataset = pd.read_csv(file_name, names=cols, skiprows=1).drop('class', axis=1)\n",
        "print(dataframe.head())\n",
        "print(dataset.head())\n"
      ],
      "id": "worse-thong",
      "execution_count": 4,
      "outputs": [
        {
          "output_type": "stream",
          "text": [
            "   sepal_length  sepal_width  petal_length  petal_width        class\n",
            "0           5.1          3.5           1.4          0.2  Iris-setosa\n",
            "1           4.9          3.0           1.4          0.2  Iris-setosa\n",
            "2           4.7          3.2           1.3          0.2  Iris-setosa\n",
            "3           4.6          3.1           1.5          0.2  Iris-setosa\n",
            "4           5.0          3.6           1.4          0.2  Iris-setosa\n",
            "   sepal_length  sepal_width  petal_length  petal_width\n",
            "0           5.1          3.5           1.4          0.2\n",
            "1           4.9          3.0           1.4          0.2\n",
            "2           4.7          3.2           1.3          0.2\n",
            "3           4.6          3.1           1.5          0.2\n",
            "4           5.0          3.6           1.4          0.2\n"
          ],
          "name": "stdout"
        }
      ]
    },
    {
      "cell_type": "code",
      "metadata": {
        "colab": {
          "base_uri": "https://localhost:8080/",
          "height": 323
        },
        "id": "accepted-memory",
        "outputId": "07c719bb-7d18-416e-c7df-61ad9b0a1fde"
      },
      "source": [
        "dataframe.describe()\n"
      ],
      "id": "accepted-memory",
      "execution_count": 6,
      "outputs": [
        {
          "output_type": "execute_result",
          "data": {
            "text/html": [
              "<div>\n",
              "<style scoped>\n",
              "    .dataframe tbody tr th:only-of-type {\n",
              "        vertical-align: middle;\n",
              "    }\n",
              "\n",
              "    .dataframe tbody tr th {\n",
              "        vertical-align: top;\n",
              "    }\n",
              "\n",
              "    .dataframe thead th {\n",
              "        text-align: right;\n",
              "    }\n",
              "</style>\n",
              "<table border=\"1\" class=\"dataframe\">\n",
              "  <thead>\n",
              "    <tr style=\"text-align: right;\">\n",
              "      <th></th>\n",
              "      <th>sepal_length</th>\n",
              "      <th>sepal_width</th>\n",
              "      <th>petal_length</th>\n",
              "      <th>petal_width</th>\n",
              "    </tr>\n",
              "  </thead>\n",
              "  <tbody>\n",
              "    <tr>\n",
              "      <th>count</th>\n",
              "      <td>150.000000</td>\n",
              "      <td>150.000000</td>\n",
              "      <td>150.000000</td>\n",
              "      <td>150.000000</td>\n",
              "    </tr>\n",
              "    <tr>\n",
              "      <th>mean</th>\n",
              "      <td>5.843333</td>\n",
              "      <td>3.054000</td>\n",
              "      <td>3.758667</td>\n",
              "      <td>1.198667</td>\n",
              "    </tr>\n",
              "    <tr>\n",
              "      <th>std</th>\n",
              "      <td>0.828066</td>\n",
              "      <td>0.433594</td>\n",
              "      <td>1.764420</td>\n",
              "      <td>0.763161</td>\n",
              "    </tr>\n",
              "    <tr>\n",
              "      <th>min</th>\n",
              "      <td>4.300000</td>\n",
              "      <td>2.000000</td>\n",
              "      <td>1.000000</td>\n",
              "      <td>0.100000</td>\n",
              "    </tr>\n",
              "    <tr>\n",
              "      <th>25%</th>\n",
              "      <td>5.100000</td>\n",
              "      <td>2.800000</td>\n",
              "      <td>1.600000</td>\n",
              "      <td>0.300000</td>\n",
              "    </tr>\n",
              "    <tr>\n",
              "      <th>50%</th>\n",
              "      <td>5.800000</td>\n",
              "      <td>3.000000</td>\n",
              "      <td>4.350000</td>\n",
              "      <td>1.300000</td>\n",
              "    </tr>\n",
              "    <tr>\n",
              "      <th>75%</th>\n",
              "      <td>6.400000</td>\n",
              "      <td>3.300000</td>\n",
              "      <td>5.100000</td>\n",
              "      <td>1.800000</td>\n",
              "    </tr>\n",
              "    <tr>\n",
              "      <th>max</th>\n",
              "      <td>7.900000</td>\n",
              "      <td>4.400000</td>\n",
              "      <td>6.900000</td>\n",
              "      <td>2.500000</td>\n",
              "    </tr>\n",
              "  </tbody>\n",
              "</table>\n",
              "</div>"
            ],
            "text/plain": [
              "       sepal_length  sepal_width  petal_length  petal_width\n",
              "count    150.000000   150.000000    150.000000   150.000000\n",
              "mean       5.843333     3.054000      3.758667     1.198667\n",
              "std        0.828066     0.433594      1.764420     0.763161\n",
              "min        4.300000     2.000000      1.000000     0.100000\n",
              "25%        5.100000     2.800000      1.600000     0.300000\n",
              "50%        5.800000     3.000000      4.350000     1.300000\n",
              "75%        6.400000     3.300000      5.100000     1.800000\n",
              "max        7.900000     4.400000      6.900000     2.500000"
            ]
          },
          "metadata": {
            "tags": []
          },
          "execution_count": 6
        }
      ]
    },
    {
      "cell_type": "code",
      "metadata": {
        "colab": {
          "base_uri": "https://localhost:8080/"
        },
        "id": "competitive-controversy",
        "outputId": "22517c01-3a48-41b1-cba5-142f9cb4b4aa"
      },
      "source": [
        "dataframe.info()"
      ],
      "id": "competitive-controversy",
      "execution_count": 7,
      "outputs": [
        {
          "output_type": "stream",
          "text": [
            "<class 'pandas.core.frame.DataFrame'>\n",
            "RangeIndex: 150 entries, 0 to 149\n",
            "Data columns (total 5 columns):\n",
            " #   Column        Non-Null Count  Dtype  \n",
            "---  ------        --------------  -----  \n",
            " 0   sepal_length  150 non-null    float64\n",
            " 1   sepal_width   150 non-null    float64\n",
            " 2   petal_length  150 non-null    float64\n",
            " 3   petal_width   150 non-null    float64\n",
            " 4   class         150 non-null    object \n",
            "dtypes: float64(4), object(1)\n",
            "memory usage: 6.0+ KB\n"
          ],
          "name": "stdout"
        }
      ]
    },
    {
      "cell_type": "code",
      "metadata": {
        "colab": {
          "base_uri": "https://localhost:8080/"
        },
        "id": "legitimate-investigation",
        "outputId": "f9bde009-e174-4eab-d2bf-448ed886991f"
      },
      "source": [
        "dataframe['class'].unique()"
      ],
      "id": "legitimate-investigation",
      "execution_count": 9,
      "outputs": [
        {
          "output_type": "execute_result",
          "data": {
            "text/plain": [
              "array(['Iris-setosa', 'Iris-versicolor', 'Iris-virginica'], dtype=object)"
            ]
          },
          "metadata": {
            "tags": []
          },
          "execution_count": 9
        }
      ]
    },
    {
      "cell_type": "code",
      "metadata": {
        "colab": {
          "base_uri": "https://localhost:8080/",
          "height": 144
        },
        "id": "removable-devil",
        "outputId": "6f6d3f3b-f7b1-4c21-cce8-9cdad15f127c"
      },
      "source": [
        "class KNN:\n",
        "\n",
        "    def __init__(self, dataframe, dataset):\n",
        "        self.dataframe = dataframe\n",
        "        self.dataset = dataset  \n",
        "  \n",
        "    col_class = dataframe['class']\n",
        "\n",
        "    # Data Wrangling\n",
        "    def string_to_float(self, dataset):\n",
        "        \"\"\"\n",
        "        convert string column values to floats;\n",
        "        not needed -> values are floats   \n",
        "        \"\"\"\n",
        "        pass\n",
        "\n",
        "\n",
        "    def ints_to_floats(self, dataset):\n",
        "        \"\"\"\n",
        "        convert integers values to floats;\n",
        "        not needed -> values are floats  \n",
        "        \"\"\"\n",
        "        pass\n",
        "    \n",
        "    \n",
        "    def create_unique_class_id(self, dataframe, col_class):\n",
        "        \"\"\"\n",
        "        identify unique classification values; \n",
        "        encode column values as integer labels while \n",
        "        keeping human readable format too\n",
        "        \"\"\"\n",
        "        cat = pd.Categorical(['1', '2', '3'], categories=['Iris-setosa', 'Iris-versicolor', 'Iris-virginica'])\n",
        "        self.class_val_labels, self.class_uniques = pd.factorize(cat)\n",
        "\n",
        "        return self.class_val_labels, self.class_uniques    \n",
        "\n",
        "   \n",
        "    # Pre-Processing\n",
        "    def min_max(self, dataset):\n",
        "        \"\"\"\n",
        "        find the minimum and maximum values for each column;\n",
        "        create a list of these values\n",
        "        \"\"\"\n",
        "        # create empty list\n",
        "        minmax = []\n",
        "        for i in range(len(self.dataset):\n",
        "            #col = [row[i] for row in self.dataset]\n",
        "            minimum = row[i].min(self.dataset)   #min(col)\n",
        "            maximum = row[i].max(self.dataset)  #max(col) \n",
        "            minmax.append([minimum, maximum])\n",
        "\n",
        "        return self.minmax#, self.col\n",
        "\n",
        "\n",
        "    def normalize(self, dataset, minmax):\n",
        "        \"\"\"\n",
        "        rescale dataset columns to range 0-1;\n",
        "        must be called after train/test split to avoid leakage/bias;\n",
        "        returns ndarry of shape(n_samples, n_features) transformed data\n",
        "        \"\"\"\n",
        "        for row in dataset:\n",
        "          for i in range(len(row)):\n",
        "            row[i] = (row[i] - self.minmax[i][0]) / (self.minmax[i][1] - self.minmax[i][0])     \n",
        "    \n",
        "\n",
        "    # def calculate_ed(self, v1, v2):\n",
        "    #     \"\"\"\n",
        "    #     calculate euclidean distance between vectors\n",
        "    #     \"\"\"\n",
        "    #     # convert to numpy arrays (just in case)\n",
        "    #     v1, v2 = np.array(v1), np.array(v2)\n",
        "\n",
        "    #     # set initial distance to zero\n",
        "    #     distance = 0\n",
        "\n",
        "    #     # iterate over each dimension of the vectors\n",
        "    #     for i in range(len(v1) - 1):\n",
        "    #         # increment distance\n",
        "    #         distance += (v1[i] - v2[i]) **2\n",
        "\n",
        "    #     # return the square root\n",
        "    #     return np.sqrt(distance)\n",
        "\n",
        "\n",
        "    def train_test_k_fold_split(self):\n",
        "        \"\"\"\n",
        "        split dataset into k folds\n",
        "        \"\"\"\n",
        "        pass\n",
        "\n",
        "    \n",
        "    # Implement K-NN Algorithm\n",
        "    def get_neighbors(self):\n",
        "        \"\"\"\n",
        "        locate most similar neighbors\n",
        "        \"\"\"\n",
        "        pass\n",
        "    \n",
        "\n",
        "    def predict_class(self):\n",
        "        \"\"\"\n",
        "        make a prediction with neighbors\n",
        "        \"\"\"\n",
        "        pass\n",
        "    \n",
        "\n",
        "    def k_nn(self):\n",
        "        \"\"\"\n",
        "        K-NN algorithm\n",
        "        \"\"\"\n",
        "        pass\n",
        "\n",
        "    \n",
        "    # Evaluate K-NN Algorithm\n",
        "    def accuracy_metrics(self):\n",
        "        \"\"\"\n",
        "        calculate accuracy percentage\n",
        "        \"\"\"\n",
        "        pass\n",
        "    \n",
        "\n",
        "    def cross_val_metric(self):\n",
        "        \"\"\"\n",
        "        evaluate algorithm using cross validation \n",
        "        \"\"\"\n",
        "        pass\n",
        "\n",
        "\n",
        "if __name__ == '__main__':\n",
        "    # Test KNN class initializtion\n",
        "    knn = KNN(dataframe, dataset)\n",
        "    print(dataframe.head())\n",
        "    print(dataframe.tail())\n",
        "    dataframe.info()\n",
        "    print(dataset)\n",
        "\n",
        "    # test create_unigue_class_id method\n",
        "    knn.create_unique_class_id(dataframe, \"class\")\n",
        "    print(knn.class_val_labels)\n",
        "\n",
        "    # test min_max method\n",
        "    knn.min_max(dataset)\n",
        "    print(knn.minmax)\n",
        "\n",
        "    # test nortmalize method\n",
        "    # knn.normalize(dataset, minmax)\n",
        "    # print()\n",
        "\n",
        "    # test train_test_k_fold_split method\n",
        "\n",
        "    # test get_neighbors method\n",
        "\n",
        "    # test predict_class method\n",
        "\n",
        "    # test k_nn method\n",
        "\n",
        "    # test accuracy_metrics method\n",
        "\n",
        "    # test cross_val_metric method\n",
        "\n",
        "     "
      ],
      "id": "removable-devil",
      "execution_count": 17,
      "outputs": [
        {
          "output_type": "error",
          "ename": "SyntaxError",
          "evalue": "ignored",
          "traceback": [
            "\u001b[0;36m  File \u001b[0;32m\"<ipython-input-17-b15f4bd3cc9a>\"\u001b[0;36m, line \u001b[0;32m46\u001b[0m\n\u001b[0;31m    for i in range(len(self.dataset):\u001b[0m\n\u001b[0m                                    ^\u001b[0m\n\u001b[0;31mSyntaxError\u001b[0m\u001b[0;31m:\u001b[0m invalid syntax\n"
          ]
        }
      ]
    }
  ]
}