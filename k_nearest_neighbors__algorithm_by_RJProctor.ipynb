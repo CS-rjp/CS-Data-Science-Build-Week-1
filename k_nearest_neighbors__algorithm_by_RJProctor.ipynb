{
 "cells": [
  {
   "cell_type": "markdown",
   "id": "amended-sharing",
   "metadata": {},
   "source": [
    "# K-Nearest Neighbors Algorithim:  Python Class Implementation\n"
   ]
  },
  {
   "cell_type": "code",
   "execution_count": null,
   "id": "banned-colon",
   "metadata": {},
   "outputs": [],
   "source": [
    "# import libraries\n",
    "from csv import reader\n"
   ]
  },
  {
   "cell_type": "code",
   "execution_count": null,
   "id": "figured-mediterranean",
   "metadata": {},
   "outputs": [],
   "source": [
    "def load_csv(file_name):\n",
    "    \"\"\"\n",
    "    load CSV file\n",
    "    \"\"\"\n",
    "    dataset = list()\n",
    "    with open(file_name, 'r') as file:\n",
    "        csv_file = reader(file)\n",
    "        for row in csv_file:\n",
    "            if not row:\n",
    "                continue\n",
    "            dataset.append(row)\n",
    "    return dataset\n"
   ]
  },
  {
   "cell_type": "code",
   "execution_count": null,
   "id": "equal-cricket",
   "metadata": {},
   "outputs": [],
   "source": [
    "# Data Wrangling\n",
    "def string_to_float():\n",
    "    \"\"\"\n",
    "    convert string column values to floats\n",
    "    \"\"\"\n",
    "    pass\n",
    "\n",
    "def string_to_int():\n",
    "    \"\"\"\n",
    "    convert string column values to integers\n",
    "    \"\"\"\n",
    "    pass\n",
    "\n",
    "def min_and_max():\n",
    "    \"\"\"\n",
    "    find the min and max values for each column\n",
    "    \"\"\"\n",
    "    pass\n"
   ]
  },
  {
   "cell_type": "code",
   "execution_count": null,
   "id": "patient-commerce",
   "metadata": {},
   "outputs": [],
   "source": [
    "# Pre-Processing\n",
    "def normalize():\n",
    "    \"\"\"\n",
    "    rescale dataset columns to range 0-1\n",
    "    \"\"\"\n",
    "    pass\n",
    "\n",
    "def calculate_ed():\n",
    "    \"\"\"\n",
    "    calculate euclidean distance between two vectors\n",
    "    \"\"\"\n",
    "    pass\n"
   ]
  },
  {
   "cell_type": "code",
   "execution_count": null,
   "id": "correct-harbor",
   "metadata": {},
   "outputs": [],
   "source": [
    "# Implement K-NN Algorithm\n",
    "def get_neighbors():\n",
    "    \"\"\"\n",
    "    locate most similar neighbors\n",
    "    \"\"\"\n",
    "    pass\n",
    "\n",
    "def predict_class():\n",
    "    \"\"\"\n",
    "    make a prediction with neighbors\n",
    "    \"\"\"\n",
    "    pass\n",
    "\n",
    "def k_nn():\n",
    "    \"\"\"\n",
    "    K-NN algorithm\n",
    "    \"\"\"\n",
    "    pass\n"
   ]
  },
  {
   "cell_type": "code",
   "execution_count": null,
   "id": "owned-rehabilitation",
   "metadata": {},
   "outputs": [],
   "source": [
    "# Evaluate K-NN Algorithm\n",
    "def cross_val_split():\n",
    "    \"\"\"\n",
    "    split dataset into k folds\n",
    "    \"\"\"\n",
    "    pass\n",
    "\n",
    "def accuracy_metric():\n",
    "    \"\"\"\n",
    "    calculate accuracy percentage\n",
    "    \"\"\"\n",
    "    pass\n",
    "\n",
    "def cross_val_metric():\n",
    "    \"\"\"\n",
    "    evaluate algorithm using cross validation \n",
    "    \"\"\"\n",
    "    pass\n"
   ]
  },
  {
   "cell_type": "code",
   "execution_count": null,
   "id": "requested-explorer",
   "metadata": {},
   "outputs": [],
   "source": [
    "# Test K-NN on __ dataset\n"
   ]
  },
  {
   "cell_type": "code",
   "execution_count": null,
   "id": "removable-devil",
   "metadata": {},
   "outputs": [],
   "source": [
    "# Refactored (complete) Algorithm\n",
    "\n",
    "# class KNN:\n",
    "#     def __init__(self, name):\n",
    "#         self.name = name\n"
   ]
  }
 ],
 "metadata": {
  "kernelspec": {
   "display_name": "Python 3",
   "language": "python",
   "name": "python3"
  },
  "language_info": {
   "codemirror_mode": {
    "name": "ipython",
    "version": 3
   },
   "file_extension": ".py",
   "mimetype": "text/x-python",
   "name": "python",
   "nbconvert_exporter": "python",
   "pygments_lexer": "ipython3",
   "version": "3.8.5"
  }
 },
 "nbformat": 4,
 "nbformat_minor": 5
}
