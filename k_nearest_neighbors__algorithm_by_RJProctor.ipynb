{
 "cells": [
  {
   "cell_type": "markdown",
   "id": "amended-sharing",
   "metadata": {},
   "source": [
    "# K-Nearest Neighbors Algorithim:  Python Class Implementation\n"
   ]
  },
  {
   "cell_type": "code",
   "execution_count": 1,
   "id": "banned-colon",
   "metadata": {},
   "outputs": [],
   "source": [
    "# import libraries\n",
    "import requests\n",
    "from contextlib import closing\n",
    "import csv\n",
    "import pandas as pd\n",
    "from random import seed\n",
    "from sklearn.preprocessing import MinMaxScaler\n",
    "\n"
   ]
  },
  {
   "cell_type": "code",
   "execution_count": 9,
   "id": "worse-thong",
   "metadata": {},
   "outputs": [
    {
     "data": {
      "text/html": [
       "<div>\n",
       "<style scoped>\n",
       "    .dataframe tbody tr th:only-of-type {\n",
       "        vertical-align: middle;\n",
       "    }\n",
       "\n",
       "    .dataframe tbody tr th {\n",
       "        vertical-align: top;\n",
       "    }\n",
       "\n",
       "    .dataframe thead th {\n",
       "        text-align: right;\n",
       "    }\n",
       "</style>\n",
       "<table border=\"1\" class=\"dataframe\">\n",
       "  <thead>\n",
       "    <tr style=\"text-align: right;\">\n",
       "      <th></th>\n",
       "      <th>sepal_length</th>\n",
       "      <th>sepal_width</th>\n",
       "      <th>petal_length</th>\n",
       "      <th>petal_width</th>\n",
       "      <th>class</th>\n",
       "    </tr>\n",
       "  </thead>\n",
       "  <tbody>\n",
       "    <tr>\n",
       "      <th>0</th>\n",
       "      <td>5.1</td>\n",
       "      <td>3.5</td>\n",
       "      <td>1.4</td>\n",
       "      <td>0.2</td>\n",
       "      <td>Iris-setosa</td>\n",
       "    </tr>\n",
       "    <tr>\n",
       "      <th>1</th>\n",
       "      <td>4.9</td>\n",
       "      <td>3.0</td>\n",
       "      <td>1.4</td>\n",
       "      <td>0.2</td>\n",
       "      <td>Iris-setosa</td>\n",
       "    </tr>\n",
       "    <tr>\n",
       "      <th>2</th>\n",
       "      <td>4.7</td>\n",
       "      <td>3.2</td>\n",
       "      <td>1.3</td>\n",
       "      <td>0.2</td>\n",
       "      <td>Iris-setosa</td>\n",
       "    </tr>\n",
       "    <tr>\n",
       "      <th>3</th>\n",
       "      <td>4.6</td>\n",
       "      <td>3.1</td>\n",
       "      <td>1.5</td>\n",
       "      <td>0.2</td>\n",
       "      <td>Iris-setosa</td>\n",
       "    </tr>\n",
       "    <tr>\n",
       "      <th>4</th>\n",
       "      <td>5.0</td>\n",
       "      <td>3.6</td>\n",
       "      <td>1.4</td>\n",
       "      <td>0.2</td>\n",
       "      <td>Iris-setosa</td>\n",
       "    </tr>\n",
       "  </tbody>\n",
       "</table>\n",
       "</div>"
      ],
      "text/plain": [
       "   sepal_length   sepal_width  petal_length  petal_width        class\n",
       "0           5.1           3.5           1.4          0.2  Iris-setosa\n",
       "1           4.9           3.0           1.4          0.2  Iris-setosa\n",
       "2           4.7           3.2           1.3          0.2  Iris-setosa\n",
       "3           4.6           3.1           1.5          0.2  Iris-setosa\n",
       "4           5.0           3.6           1.4          0.2  Iris-setosa"
      ]
     },
     "execution_count": 9,
     "metadata": {},
     "output_type": "execute_result"
    }
   ],
   "source": [
    "cols = ['sepal_length', ' sepal_width', 'petal_length', 'petal_width', 'class']\n",
    "df = pd.read_csv('IRIS.csv', names=cols, skiprows=1)\n",
    "df.head()"
   ]
  },
  {
   "cell_type": "code",
   "execution_count": 10,
   "id": "accepted-memory",
   "metadata": {},
   "outputs": [
    {
     "data": {
      "text/html": [
       "<div>\n",
       "<style scoped>\n",
       "    .dataframe tbody tr th:only-of-type {\n",
       "        vertical-align: middle;\n",
       "    }\n",
       "\n",
       "    .dataframe tbody tr th {\n",
       "        vertical-align: top;\n",
       "    }\n",
       "\n",
       "    .dataframe thead th {\n",
       "        text-align: right;\n",
       "    }\n",
       "</style>\n",
       "<table border=\"1\" class=\"dataframe\">\n",
       "  <thead>\n",
       "    <tr style=\"text-align: right;\">\n",
       "      <th></th>\n",
       "      <th>sepal_length</th>\n",
       "      <th>sepal_width</th>\n",
       "      <th>petal_length</th>\n",
       "      <th>petal_width</th>\n",
       "    </tr>\n",
       "  </thead>\n",
       "  <tbody>\n",
       "    <tr>\n",
       "      <th>count</th>\n",
       "      <td>150.000000</td>\n",
       "      <td>150.000000</td>\n",
       "      <td>150.000000</td>\n",
       "      <td>150.000000</td>\n",
       "    </tr>\n",
       "    <tr>\n",
       "      <th>mean</th>\n",
       "      <td>5.843333</td>\n",
       "      <td>3.054000</td>\n",
       "      <td>3.758667</td>\n",
       "      <td>1.198667</td>\n",
       "    </tr>\n",
       "    <tr>\n",
       "      <th>std</th>\n",
       "      <td>0.828066</td>\n",
       "      <td>0.433594</td>\n",
       "      <td>1.764420</td>\n",
       "      <td>0.763161</td>\n",
       "    </tr>\n",
       "    <tr>\n",
       "      <th>min</th>\n",
       "      <td>4.300000</td>\n",
       "      <td>2.000000</td>\n",
       "      <td>1.000000</td>\n",
       "      <td>0.100000</td>\n",
       "    </tr>\n",
       "    <tr>\n",
       "      <th>25%</th>\n",
       "      <td>5.100000</td>\n",
       "      <td>2.800000</td>\n",
       "      <td>1.600000</td>\n",
       "      <td>0.300000</td>\n",
       "    </tr>\n",
       "    <tr>\n",
       "      <th>50%</th>\n",
       "      <td>5.800000</td>\n",
       "      <td>3.000000</td>\n",
       "      <td>4.350000</td>\n",
       "      <td>1.300000</td>\n",
       "    </tr>\n",
       "    <tr>\n",
       "      <th>75%</th>\n",
       "      <td>6.400000</td>\n",
       "      <td>3.300000</td>\n",
       "      <td>5.100000</td>\n",
       "      <td>1.800000</td>\n",
       "    </tr>\n",
       "    <tr>\n",
       "      <th>max</th>\n",
       "      <td>7.900000</td>\n",
       "      <td>4.400000</td>\n",
       "      <td>6.900000</td>\n",
       "      <td>2.500000</td>\n",
       "    </tr>\n",
       "  </tbody>\n",
       "</table>\n",
       "</div>"
      ],
      "text/plain": [
       "       sepal_length   sepal_width  petal_length  petal_width\n",
       "count    150.000000    150.000000    150.000000   150.000000\n",
       "mean       5.843333      3.054000      3.758667     1.198667\n",
       "std        0.828066      0.433594      1.764420     0.763161\n",
       "min        4.300000      2.000000      1.000000     0.100000\n",
       "25%        5.100000      2.800000      1.600000     0.300000\n",
       "50%        5.800000      3.000000      4.350000     1.300000\n",
       "75%        6.400000      3.300000      5.100000     1.800000\n",
       "max        7.900000      4.400000      6.900000     2.500000"
      ]
     },
     "execution_count": 10,
     "metadata": {},
     "output_type": "execute_result"
    }
   ],
   "source": [
    "df.describe()\n"
   ]
  },
  {
   "cell_type": "code",
   "execution_count": 11,
   "id": "competitive-controversy",
   "metadata": {},
   "outputs": [
    {
     "name": "stdout",
     "output_type": "stream",
     "text": [
      "<class 'pandas.core.frame.DataFrame'>\n",
      "RangeIndex: 150 entries, 0 to 149\n",
      "Data columns (total 5 columns):\n",
      " #   Column        Non-Null Count  Dtype  \n",
      "---  ------        --------------  -----  \n",
      " 0   sepal_length  150 non-null    float64\n",
      " 1    sepal_width  150 non-null    float64\n",
      " 2   petal_length  150 non-null    float64\n",
      " 3   petal_width   150 non-null    float64\n",
      " 4   class         150 non-null    object \n",
      "dtypes: float64(4), object(1)\n",
      "memory usage: 6.0+ KB\n"
     ]
    }
   ],
   "source": [
    "df.info()"
   ]
  },
  {
   "cell_type": "code",
   "execution_count": 12,
   "id": "figured-mediterranean",
   "metadata": {},
   "outputs": [],
   "source": [
    "def load_csv(file_name):\n",
    "    \"\"\"\n",
    "    load CSV file into pandas dataframe\n",
    "    \"\"\"\n",
    "    \n",
    "    dataframe = pd.read_csv(file_name, names=cols)\n",
    "\n",
    "        \n",
    "    return dataframe\n"
   ]
  },
  {
   "cell_type": "code",
   "execution_count": 13,
   "id": "nearby-weapon",
   "metadata": {},
   "outputs": [
    {
     "name": "stdout",
     "output_type": "stream",
     "text": [
      "   sepal_length  sepal_width  petal_length  petal_width        class\n",
      "0  sepal_length  sepal_width  petal_length  petal_width      species\n",
      "1           5.1          3.5           1.4          0.2  Iris-setosa\n",
      "2           4.9            3           1.4          0.2  Iris-setosa\n",
      "3           4.7          3.2           1.3          0.2  Iris-setosa\n",
      "4           4.6          3.1           1.5          0.2  Iris-setosa\n"
     ]
    }
   ],
   "source": [
    "# test load_csv()\n",
    "file_name = 'IRIS.csv'\n",
    "dataframe = load_csv(file_name)\n",
    "\n",
    "print(dataframe.head())\n"
   ]
  },
  {
   "cell_type": "code",
   "execution_count": 23,
   "id": "equal-cricket",
   "metadata": {},
   "outputs": [],
   "source": [
    "# Data Wrangling\n",
    "def string_to_float(dataframe, col):\n",
    "    \"\"\"\n",
    "    convert string column values to floats;\n",
    "    dataframe showing dtype of objects -> \n",
    "    assuming mixed dtypes of strings, ints and floats   \n",
    "    \"\"\"\n",
    "#    try:\n",
    "#    s = pd.Series(dataframe[col])\n",
    "    # remove white space at end and beginning of string text\n",
    "    # return a floating point number from a number or a string\n",
    "    # dataframe = dataframe.replace('^\\s+', '', regex=True, inplace=True)\n",
    "    dataframe = dataframe.applymap(lambda x: x.str.strip() if x.dtype == \"str\" else x)\n",
    "    dataframe[col] = dataframe[col].apply(lambda x: x.astype(float) if x.dtype == \"str\" else x)\n",
    "    # dataframe[col] = pd.to_numeric(dataframe[col], errors='coerce')\n",
    "#     s = s.str.strip()\n",
    "#     s = s.astype(float)\n",
    "#     dataframe.append(s)\n",
    "        \n",
    "#     except ValueError:\n",
    "#         print(\"Oops! Please enter a column containing numbers!\")\n",
    "  \n",
    "def ints_to_floats(dataframe, col):\n",
    "    \"\"\"\n",
    "    convert integers values to floats;\n",
    "    dataframe showing dtype of objects -> \n",
    "    assuming mixed dtypes of strings, ints and floats   \n",
    "    \"\"\"\n",
    "    pass\n",
    "    \n"
   ]
  },
  {
   "cell_type": "code",
   "execution_count": 24,
   "id": "dietary-commonwealth",
   "metadata": {
    "scrolled": true
   },
   "outputs": [
    {
     "name": "stdout",
     "output_type": "stream",
     "text": [
      "   sepal_length  sepal_width  petal_length  petal_width        class\n",
      "0  sepal_length  sepal_width  petal_length  petal_width      species\n",
      "1           5.1          3.5           1.4          0.2  Iris-setosa\n",
      "2           4.9            3           1.4          0.2  Iris-setosa\n",
      "3           4.7          3.2           1.3          0.2  Iris-setosa\n",
      "4           4.6          3.1           1.5          0.2  Iris-setosa\n",
      "<class 'pandas.core.frame.DataFrame'>\n",
      "RangeIndex: 151 entries, 0 to 150\n",
      "Data columns (total 5 columns):\n",
      " #   Column        Non-Null Count  Dtype \n",
      "---  ------        --------------  ----- \n",
      " 0   sepal_length  151 non-null    object\n",
      " 1    sepal_width  151 non-null    object\n",
      " 2   petal_length  151 non-null    object\n",
      " 3   petal_width   151 non-null    object\n",
      " 4   class         151 non-null    object\n",
      "dtypes: object(5)\n",
      "memory usage: 6.0+ KB\n"
     ]
    },
    {
     "ename": "AttributeError",
     "evalue": "'str' object has no attribute 'dtype'",
     "output_type": "error",
     "traceback": [
      "\u001b[0;31m---------------------------------------------------------------------------\u001b[0m",
      "\u001b[0;31mAttributeError\u001b[0m                            Traceback (most recent call last)",
      "\u001b[0;32m<ipython-input-24-a4a91fa1f55f>\u001b[0m in \u001b[0;36m<module>\u001b[0;34m\u001b[0m\n\u001b[1;32m      3\u001b[0m \u001b[0mdataframe\u001b[0m\u001b[0;34m.\u001b[0m\u001b[0minfo\u001b[0m\u001b[0;34m(\u001b[0m\u001b[0;34m)\u001b[0m\u001b[0;34m\u001b[0m\u001b[0;34m\u001b[0m\u001b[0m\n\u001b[1;32m      4\u001b[0m \u001b[0;31m# test data wrangling\u001b[0m\u001b[0;34m\u001b[0m\u001b[0;34m\u001b[0m\u001b[0;34m\u001b[0m\u001b[0m\n\u001b[0;32m----> 5\u001b[0;31m \u001b[0mstring_to_float\u001b[0m\u001b[0;34m(\u001b[0m\u001b[0mdataframe\u001b[0m\u001b[0;34m,\u001b[0m \u001b[0;34m\"sepal_length\"\u001b[0m\u001b[0;34m)\u001b[0m\u001b[0;34m\u001b[0m\u001b[0;34m\u001b[0m\u001b[0m\n\u001b[0m\u001b[1;32m      6\u001b[0m \u001b[0;34m\u001b[0m\u001b[0m\n\u001b[1;32m      7\u001b[0m \u001b[0;34m\u001b[0m\u001b[0m\n",
      "\u001b[0;32m<ipython-input-23-e93af11949df>\u001b[0m in \u001b[0;36mstring_to_float\u001b[0;34m(dataframe, col)\u001b[0m\n\u001b[1;32m     10\u001b[0m     \u001b[0;31m# dataframe = dataframe.replace('^\\s+', '', regex=True, inplace=True)\u001b[0m\u001b[0;34m\u001b[0m\u001b[0;34m\u001b[0m\u001b[0;34m\u001b[0m\u001b[0m\n\u001b[1;32m     11\u001b[0m     \u001b[0mdataframe\u001b[0m \u001b[0;34m=\u001b[0m \u001b[0mdataframe\u001b[0m\u001b[0;34m.\u001b[0m\u001b[0mapply\u001b[0m\u001b[0;34m(\u001b[0m\u001b[0;32mlambda\u001b[0m \u001b[0mx\u001b[0m\u001b[0;34m:\u001b[0m \u001b[0mx\u001b[0m\u001b[0;34m.\u001b[0m\u001b[0mstr\u001b[0m\u001b[0;34m.\u001b[0m\u001b[0mstrip\u001b[0m\u001b[0;34m(\u001b[0m\u001b[0;34m)\u001b[0m \u001b[0;32mif\u001b[0m \u001b[0mx\u001b[0m\u001b[0;34m.\u001b[0m\u001b[0mdtype\u001b[0m \u001b[0;34m==\u001b[0m \u001b[0;34m\"object\"\u001b[0m \u001b[0;32melse\u001b[0m \u001b[0mx\u001b[0m\u001b[0;34m)\u001b[0m\u001b[0;34m\u001b[0m\u001b[0;34m\u001b[0m\u001b[0m\n\u001b[0;32m---> 12\u001b[0;31m     \u001b[0mdataframe\u001b[0m\u001b[0;34m[\u001b[0m\u001b[0mcol\u001b[0m\u001b[0;34m]\u001b[0m \u001b[0;34m=\u001b[0m \u001b[0mdataframe\u001b[0m\u001b[0;34m[\u001b[0m\u001b[0mcol\u001b[0m\u001b[0;34m]\u001b[0m\u001b[0;34m.\u001b[0m\u001b[0mapply\u001b[0m\u001b[0;34m(\u001b[0m\u001b[0;32mlambda\u001b[0m \u001b[0mx\u001b[0m\u001b[0;34m:\u001b[0m \u001b[0mx\u001b[0m\u001b[0;34m.\u001b[0m\u001b[0mastype\u001b[0m\u001b[0;34m(\u001b[0m\u001b[0mfloat\u001b[0m\u001b[0;34m)\u001b[0m \u001b[0;32mif\u001b[0m \u001b[0mx\u001b[0m\u001b[0;34m.\u001b[0m\u001b[0mdtype\u001b[0m \u001b[0;34m==\u001b[0m \u001b[0;34m\"object\"\u001b[0m \u001b[0;32melse\u001b[0m \u001b[0mx\u001b[0m\u001b[0;34m)\u001b[0m\u001b[0;34m\u001b[0m\u001b[0;34m\u001b[0m\u001b[0m\n\u001b[0m\u001b[1;32m     13\u001b[0m     \u001b[0;31m# dataframe[col] = pd.to_numeric(dataframe[col], errors='coerce')\u001b[0m\u001b[0;34m\u001b[0m\u001b[0;34m\u001b[0m\u001b[0;34m\u001b[0m\u001b[0m\n\u001b[1;32m     14\u001b[0m \u001b[0;31m#     s = s.str.strip()\u001b[0m\u001b[0;34m\u001b[0m\u001b[0;34m\u001b[0m\u001b[0;34m\u001b[0m\u001b[0m\n",
      "\u001b[0;32m~/.local/share/virtualenvs/CS-Data-Science-Build-Week-1-t6Bt9oev/lib/python3.8/site-packages/pandas/core/series.py\u001b[0m in \u001b[0;36mapply\u001b[0;34m(self, func, convert_dtype, args, **kwds)\u001b[0m\n\u001b[1;32m   4136\u001b[0m             \u001b[0;32melse\u001b[0m\u001b[0;34m:\u001b[0m\u001b[0;34m\u001b[0m\u001b[0;34m\u001b[0m\u001b[0m\n\u001b[1;32m   4137\u001b[0m                 \u001b[0mvalues\u001b[0m \u001b[0;34m=\u001b[0m \u001b[0mself\u001b[0m\u001b[0;34m.\u001b[0m\u001b[0mastype\u001b[0m\u001b[0;34m(\u001b[0m\u001b[0mobject\u001b[0m\u001b[0;34m)\u001b[0m\u001b[0;34m.\u001b[0m\u001b[0m_values\u001b[0m\u001b[0;34m\u001b[0m\u001b[0;34m\u001b[0m\u001b[0m\n\u001b[0;32m-> 4138\u001b[0;31m                 \u001b[0mmapped\u001b[0m \u001b[0;34m=\u001b[0m \u001b[0mlib\u001b[0m\u001b[0;34m.\u001b[0m\u001b[0mmap_infer\u001b[0m\u001b[0;34m(\u001b[0m\u001b[0mvalues\u001b[0m\u001b[0;34m,\u001b[0m \u001b[0mf\u001b[0m\u001b[0;34m,\u001b[0m \u001b[0mconvert\u001b[0m\u001b[0;34m=\u001b[0m\u001b[0mconvert_dtype\u001b[0m\u001b[0;34m)\u001b[0m\u001b[0;34m\u001b[0m\u001b[0;34m\u001b[0m\u001b[0m\n\u001b[0m\u001b[1;32m   4139\u001b[0m \u001b[0;34m\u001b[0m\u001b[0m\n\u001b[1;32m   4140\u001b[0m         \u001b[0;32mif\u001b[0m \u001b[0mlen\u001b[0m\u001b[0;34m(\u001b[0m\u001b[0mmapped\u001b[0m\u001b[0;34m)\u001b[0m \u001b[0;32mand\u001b[0m \u001b[0misinstance\u001b[0m\u001b[0;34m(\u001b[0m\u001b[0mmapped\u001b[0m\u001b[0;34m[\u001b[0m\u001b[0;36m0\u001b[0m\u001b[0;34m]\u001b[0m\u001b[0;34m,\u001b[0m \u001b[0mSeries\u001b[0m\u001b[0;34m)\u001b[0m\u001b[0;34m:\u001b[0m\u001b[0;34m\u001b[0m\u001b[0;34m\u001b[0m\u001b[0m\n",
      "\u001b[0;32mpandas/_libs/lib.pyx\u001b[0m in \u001b[0;36mpandas._libs.lib.map_infer\u001b[0;34m()\u001b[0m\n",
      "\u001b[0;32m<ipython-input-23-e93af11949df>\u001b[0m in \u001b[0;36m<lambda>\u001b[0;34m(x)\u001b[0m\n\u001b[1;32m     10\u001b[0m     \u001b[0;31m# dataframe = dataframe.replace('^\\s+', '', regex=True, inplace=True)\u001b[0m\u001b[0;34m\u001b[0m\u001b[0;34m\u001b[0m\u001b[0;34m\u001b[0m\u001b[0m\n\u001b[1;32m     11\u001b[0m     \u001b[0mdataframe\u001b[0m \u001b[0;34m=\u001b[0m \u001b[0mdataframe\u001b[0m\u001b[0;34m.\u001b[0m\u001b[0mapply\u001b[0m\u001b[0;34m(\u001b[0m\u001b[0;32mlambda\u001b[0m \u001b[0mx\u001b[0m\u001b[0;34m:\u001b[0m \u001b[0mx\u001b[0m\u001b[0;34m.\u001b[0m\u001b[0mstr\u001b[0m\u001b[0;34m.\u001b[0m\u001b[0mstrip\u001b[0m\u001b[0;34m(\u001b[0m\u001b[0;34m)\u001b[0m \u001b[0;32mif\u001b[0m \u001b[0mx\u001b[0m\u001b[0;34m.\u001b[0m\u001b[0mdtype\u001b[0m \u001b[0;34m==\u001b[0m \u001b[0;34m\"object\"\u001b[0m \u001b[0;32melse\u001b[0m \u001b[0mx\u001b[0m\u001b[0;34m)\u001b[0m\u001b[0;34m\u001b[0m\u001b[0;34m\u001b[0m\u001b[0m\n\u001b[0;32m---> 12\u001b[0;31m     \u001b[0mdataframe\u001b[0m\u001b[0;34m[\u001b[0m\u001b[0mcol\u001b[0m\u001b[0;34m]\u001b[0m \u001b[0;34m=\u001b[0m \u001b[0mdataframe\u001b[0m\u001b[0;34m[\u001b[0m\u001b[0mcol\u001b[0m\u001b[0;34m]\u001b[0m\u001b[0;34m.\u001b[0m\u001b[0mapply\u001b[0m\u001b[0;34m(\u001b[0m\u001b[0;32mlambda\u001b[0m \u001b[0mx\u001b[0m\u001b[0;34m:\u001b[0m \u001b[0mx\u001b[0m\u001b[0;34m.\u001b[0m\u001b[0mastype\u001b[0m\u001b[0;34m(\u001b[0m\u001b[0mfloat\u001b[0m\u001b[0;34m)\u001b[0m \u001b[0;32mif\u001b[0m \u001b[0mx\u001b[0m\u001b[0;34m.\u001b[0m\u001b[0mdtype\u001b[0m \u001b[0;34m==\u001b[0m \u001b[0;34m\"object\"\u001b[0m \u001b[0;32melse\u001b[0m \u001b[0mx\u001b[0m\u001b[0;34m)\u001b[0m\u001b[0;34m\u001b[0m\u001b[0;34m\u001b[0m\u001b[0m\n\u001b[0m\u001b[1;32m     13\u001b[0m     \u001b[0;31m# dataframe[col] = pd.to_numeric(dataframe[col], errors='coerce')\u001b[0m\u001b[0;34m\u001b[0m\u001b[0;34m\u001b[0m\u001b[0;34m\u001b[0m\u001b[0m\n\u001b[1;32m     14\u001b[0m \u001b[0;31m#     s = s.str.strip()\u001b[0m\u001b[0;34m\u001b[0m\u001b[0;34m\u001b[0m\u001b[0;34m\u001b[0m\u001b[0m\n",
      "\u001b[0;31mAttributeError\u001b[0m: 'str' object has no attribute 'dtype'"
     ]
    }
   ],
   "source": [
    "print(dataframe.head())\n",
    "\n",
    "dataframe.info()\n",
    "# test data wrangling \n",
    "string_to_float(dataframe, \"sepal_length\")\n",
    "\n",
    "    "
   ]
  },
  {
   "cell_type": "code",
   "execution_count": null,
   "id": "patient-commerce",
   "metadata": {},
   "outputs": [],
   "source": [
    "# Pre-Processing\n",
    "def normalize():\n",
    "    \"\"\"\n",
    "    rescale dataset columns to range 0-1;\n",
    "    must be used after train/test split to avoid leakage/bias\n",
    "    \"\"\"\n",
    "    data = [X_train]\n",
    "    scaler = MinMaxScaler()\n",
    "    \n",
    "    scaler.fit.transform(data)\n",
    "    \n",
    "    scaler.\n",
    "    pass\n",
    "\n",
    "def create_unique_class_id(dataframe, col):\n",
    "    \"\"\"\n",
    "    identify unique classification values; \n",
    "    convert column values to integers\n",
    "    \"\"\"\n",
    "    s = pd.Series(dataframe[col])\n",
    "    class_val_labels, levels = pd.factorize(s)\n",
    "        \n",
    "    return class_val_labels\n",
    "\n",
    "def calculate_ed():\n",
    "    \"\"\"\n",
    "    calculate euclidean distance between two vectors\n",
    "    \"\"\"\n",
    "    pass\n",
    "\n",
    "# def min_max(dataframe):\n",
    "#     \"\"\"\n",
    "#     find the minimum and maximum values for each column;\n",
    "#     create a list of these values\n",
    "#     \"\"\"\n",
    "#     # create empty list\n",
    "#     minmax = []\n",
    "        \n",
    "#     # groups the data by columns and assigns the value of \n",
    "#     # the minimum value per group to the min variable\n",
    "#     min = dataframe.groupby(col).min()\n",
    "\n",
    "#     # groups the data by columns and assigns the value of\n",
    "#     # the maximum value per group to the max variable\n",
    "#     max = dataframe.groupby(col).max()\n",
    "    \n",
    "#     for i in range(len(dataframe[0])):\n",
    "#         minmax.append([min, max])\n",
    "        \n",
    "#     return minmax\n",
    "\n",
    "## Note: can use MinMaxScaler fit to accomplish this and then transform to scale for normalization\n",
    "\n",
    "\n",
    "\n",
    "# def mean():\n",
    "#     \"\"\"\n",
    "#     groups the data by columns and returns the mean value per group\n",
    "#     \"\"\"\n",
    "#     return dataframe.groupby(col).mean()\n"
   ]
  },
  {
   "cell_type": "code",
   "execution_count": null,
   "id": "beneficial-burst",
   "metadata": {},
   "outputs": [],
   "source": [
    "# test preprocessing\n"
   ]
  },
  {
   "cell_type": "code",
   "execution_count": null,
   "id": "correct-harbor",
   "metadata": {},
   "outputs": [],
   "source": [
    "# Implement K-NN Algorithm\n",
    "def get_neighbors():\n",
    "    \"\"\"\n",
    "    locate most similar neighbors\n",
    "    \"\"\"\n",
    "    pass\n",
    "\n",
    "def predict_class():\n",
    "    \"\"\"\n",
    "    make a prediction with neighbors\n",
    "    \"\"\"\n",
    "    pass\n",
    "\n",
    "def k_nn():\n",
    "    \"\"\"\n",
    "    K-NN algorithm\n",
    "    \"\"\"\n",
    "    pass\n"
   ]
  },
  {
   "cell_type": "code",
   "execution_count": null,
   "id": "pursuant-freedom",
   "metadata": {},
   "outputs": [],
   "source": [
    "# test implementation\n"
   ]
  },
  {
   "cell_type": "code",
   "execution_count": null,
   "id": "owned-rehabilitation",
   "metadata": {},
   "outputs": [],
   "source": [
    "# Evaluate K-NN Algorithm\n",
    "def cross_val_split():\n",
    "    \"\"\"\n",
    "    split dataset into k folds\n",
    "    \"\"\"\n",
    "    pass\n",
    "\n",
    "def accuracy_metric():\n",
    "    \"\"\"\n",
    "    calculate accuracy percentage\n",
    "    \"\"\"\n",
    "    pass\n",
    "\n",
    "def cross_val_metric():\n",
    "    \"\"\"\n",
    "    evaluate algorithm using cross validation \n",
    "    \"\"\"\n",
    "    pass\n"
   ]
  },
  {
   "cell_type": "code",
   "execution_count": null,
   "id": "driving-bouquet",
   "metadata": {},
   "outputs": [],
   "source": [
    "# test evaluation\n"
   ]
  },
  {
   "cell_type": "code",
   "execution_count": null,
   "id": "removable-devil",
   "metadata": {},
   "outputs": [],
   "source": [
    "# Refactored (complete) Algorithm\n",
    "\n",
    "# class KNN:\n",
    "#     def __init__(self, name):\n",
    "#         self.name = name\n"
   ]
  },
  {
   "cell_type": "code",
   "execution_count": null,
   "id": "requested-explorer",
   "metadata": {},
   "outputs": [],
   "source": [
    "# Test refactored code\n"
   ]
  }
 ],
 "metadata": {
  "kernelspec": {
   "display_name": "Python 3",
   "language": "python",
   "name": "python3"
  },
  "language_info": {
   "codemirror_mode": {
    "name": "ipython",
    "version": 3
   },
   "file_extension": ".py",
   "mimetype": "text/x-python",
   "name": "python",
   "nbconvert_exporter": "python",
   "pygments_lexer": "ipython3",
   "version": "3.8.5"
  }
 },
 "nbformat": 4,
 "nbformat_minor": 5
}
