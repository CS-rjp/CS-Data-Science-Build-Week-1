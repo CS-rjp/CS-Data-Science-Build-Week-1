{
  "nbformat": 4,
  "nbformat_minor": 5,
  "metadata": {
    "kernelspec": {
      "display_name": "Python 3",
      "language": "python",
      "name": "python3"
    },
    "language_info": {
      "codemirror_mode": {
        "name": "ipython",
        "version": 3
      },
      "file_extension": ".py",
      "mimetype": "text/x-python",
      "name": "python",
      "nbconvert_exporter": "python",
      "pygments_lexer": "ipython3",
      "version": "3.8.5"
    },
    "colab": {
      "name": "k_nearest_neighbors__explained_by_RJProctor.ipynb",
      "provenance": [],
      "collapsed_sections": []
    }
  },
  "cells": [
    {
      "cell_type": "markdown",
      "metadata": {
        "id": "favorite-gospel"
      },
      "source": [
        "# K-Nearest Neighbor Deconstructed\n",
        "#### Dive Into the Application of Nearest Neighbor Search"
      ],
      "id": "favorite-gospel"
    },
    {
      "cell_type": "markdown",
      "metadata": {
        "id": "ROlrWI9aiZUw"
      },
      "source": [
        "As beginning Python developers and data scientists, we are introduced to the bevy of libraries that support our work like Numpy, SciPy, Pandas, and SciKit-Learn.  These librarys and their packages allow us to fast track our learning and workflow in parallel.  They remove barriers of entry into the technology industry and improve productivity for all.  \n",
        "\n",
        "However, these out of the box solutions can be challenging to adapt and apply to individual business problems, especially for beginning and intermediate developers.  One issue that only experience can solve is understanding what is happening under the hood when interfacing with a library - what is happening that isn't showing up on the screen.  \n",
        "\n",
        "A good way to gain insight is to build your own algorithm from scratch and then compare it to the library version.  This will allow you to deconstruct the algorithim:\n",
        "- identify what data is and is not in it \n",
        "-how data structures are manipulated within \n",
        "-the logical sequence \n",
        "-what mathmatical calculations are involved \n",
        "\n",
        "An additional benefit to buiding your own algorithim is that you have complete control over the code!  As your understanding of the algorithm, dataset, data structures, and python itself grows during the exercise (...and, it will), you can adjust the algorithm code itself to reflect your own optimization of knowledge and skill.\n",
        "\n"
      ],
      "id": "ROlrWI9aiZUw"
    },
    {
      "cell_type": "markdown",
      "metadata": {
        "id": "disturbed-toddler"
      },
      "source": [
        "## Build a Classification System Using K-NN"
      ],
      "id": "disturbed-toddler"
    },
    {
      "cell_type": "markdown",
      "metadata": {
        "id": "vYJB4UblrfmN"
      },
      "source": [
        "#### Binary Classification"
      ],
      "id": "vYJB4UblrfmN"
    },
    {
      "cell_type": "markdown",
      "metadata": {
        "id": "Geuch7OCrpls"
      },
      "source": [
        ""
      ],
      "id": "Geuch7OCrpls"
    },
    {
      "cell_type": "markdown",
      "metadata": {
        "id": "5Yao8GKBrIDY"
      },
      "source": [
        "#### Multi-Classification"
      ],
      "id": "5Yao8GKBrIDY"
    },
    {
      "cell_type": "code",
      "metadata": {
        "id": "dHWhIW91rF4x"
      },
      "source": [
        ""
      ],
      "id": "dHWhIW91rF4x",
      "execution_count": null,
      "outputs": []
    },
    {
      "cell_type": "code",
      "metadata": {
        "id": "treated-handy"
      },
      "source": [
        ""
      ],
      "id": "treated-handy",
      "execution_count": null,
      "outputs": []
    },
    {
      "cell_type": "markdown",
      "metadata": {
        "id": "third-anniversary"
      },
      "source": [
        "#### Recommender Systems"
      ],
      "id": "third-anniversary"
    },
    {
      "cell_type": "code",
      "metadata": {
        "id": "hungarian-plaza"
      },
      "source": [
        ""
      ],
      "id": "hungarian-plaza",
      "execution_count": null,
      "outputs": []
    },
    {
      "cell_type": "markdown",
      "metadata": {
        "id": "fresh-replication"
      },
      "source": [
        "## How To Use Feature Extraction With K-NN"
      ],
      "id": "fresh-replication"
    },
    {
      "cell_type": "markdown",
      "metadata": {
        "id": "sunset-chess"
      },
      "source": [
        "#### Feature Extraction"
      ],
      "id": "sunset-chess"
    },
    {
      "cell_type": "code",
      "metadata": {
        "id": "overhead-bride"
      },
      "source": [
        ""
      ],
      "id": "overhead-bride",
      "execution_count": null,
      "outputs": []
    },
    {
      "cell_type": "markdown",
      "metadata": {
        "id": "interim-suggestion"
      },
      "source": [
        "## K-NN & Regression"
      ],
      "id": "interim-suggestion"
    },
    {
      "cell_type": "markdown",
      "metadata": {
        "id": "indirect-algorithm"
      },
      "source": [
        "#### Prediction"
      ],
      "id": "indirect-algorithm"
    },
    {
      "cell_type": "code",
      "metadata": {
        "id": "aware-jamaica"
      },
      "source": [
        ""
      ],
      "id": "aware-jamaica",
      "execution_count": null,
      "outputs": []
    },
    {
      "cell_type": "markdown",
      "metadata": {
        "id": "emerging-scoop"
      },
      "source": [
        "#### Cosign Similarity"
      ],
      "id": "emerging-scoop"
    },
    {
      "cell_type": "code",
      "metadata": {
        "id": "acknowledged-catalyst"
      },
      "source": [
        ""
      ],
      "id": "acknowledged-catalyst",
      "execution_count": null,
      "outputs": []
    },
    {
      "cell_type": "markdown",
      "metadata": {
        "id": "bearing-street"
      },
      "source": [
        "#### \"Good\" Features"
      ],
      "id": "bearing-street"
    },
    {
      "cell_type": "code",
      "metadata": {
        "id": "split-arthur"
      },
      "source": [
        ""
      ],
      "id": "split-arthur",
      "execution_count": null,
      "outputs": []
    },
    {
      "cell_type": "markdown",
      "metadata": {
        "id": "racial-headset"
      },
      "source": [
        "## K-NN Machine Learning Use Cases\n",
        "#### ...And Limitations"
      ],
      "id": "racial-headset"
    },
    {
      "cell_type": "code",
      "metadata": {
        "id": "fitting-consolidation"
      },
      "source": [
        ""
      ],
      "id": "fitting-consolidation",
      "execution_count": null,
      "outputs": []
    },
    {
      "cell_type": "markdown",
      "metadata": {
        "id": "presidential-glass"
      },
      "source": [
        "#### OCR"
      ],
      "id": "presidential-glass"
    },
    {
      "cell_type": "code",
      "metadata": {
        "id": "frank-chart"
      },
      "source": [
        ""
      ],
      "id": "frank-chart",
      "execution_count": null,
      "outputs": []
    },
    {
      "cell_type": "markdown",
      "metadata": {
        "id": "checked-visitor"
      },
      "source": [
        "#### Spam Filter"
      ],
      "id": "checked-visitor"
    },
    {
      "cell_type": "code",
      "metadata": {
        "id": "streaming-entity"
      },
      "source": [
        ""
      ],
      "id": "streaming-entity",
      "execution_count": null,
      "outputs": []
    },
    {
      "cell_type": "markdown",
      "metadata": {
        "id": "handmade-makeup"
      },
      "source": [
        "#### Stock Market Predictions"
      ],
      "id": "handmade-makeup"
    },
    {
      "cell_type": "code",
      "metadata": {
        "id": "brazilian-rhythm"
      },
      "source": [
        ""
      ],
      "id": "brazilian-rhythm",
      "execution_count": null,
      "outputs": []
    },
    {
      "cell_type": "markdown",
      "metadata": {
        "id": "cosmetic-tooth"
      },
      "source": [
        "## K-NN Challenge"
      ],
      "id": "cosmetic-tooth"
    },
    {
      "cell_type": "code",
      "metadata": {
        "id": "boolean-adelaide"
      },
      "source": [
        ""
      ],
      "id": "boolean-adelaide",
      "execution_count": null,
      "outputs": []
    }
  ]
}