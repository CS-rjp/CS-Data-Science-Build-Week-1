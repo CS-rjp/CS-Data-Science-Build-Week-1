{
 "cells": [
  {
   "cell_type": "markdown",
   "id": "favorite-gospel",
   "metadata": {},
   "source": [
    "# K-Nearest Neighbor Deconstructed"
   ]
  },
  {
   "cell_type": "markdown",
   "id": "disturbed-toddler",
   "metadata": {},
   "source": [
    "## Build a Classification System Using K-NN"
   ]
  },
  {
   "cell_type": "markdown",
   "id": "pleased-eagle",
   "metadata": {},
   "source": [
    "#### Binary Classification"
   ]
  },
  {
   "cell_type": "code",
   "execution_count": null,
   "id": "treated-handy",
   "metadata": {},
   "outputs": [],
   "source": []
  },
  {
   "cell_type": "markdown",
   "id": "third-anniversary",
   "metadata": {},
   "source": [
    "#### Recommender Systems"
   ]
  },
  {
   "cell_type": "code",
   "execution_count": null,
   "id": "hungarian-plaza",
   "metadata": {},
   "outputs": [],
   "source": []
  },
  {
   "cell_type": "markdown",
   "id": "fresh-replication",
   "metadata": {},
   "source": [
    "## How To Use Feature Extraction With K-NN"
   ]
  },
  {
   "cell_type": "markdown",
   "id": "sunset-chess",
   "metadata": {},
   "source": [
    "#### Feature Extraction"
   ]
  },
  {
   "cell_type": "code",
   "execution_count": null,
   "id": "overhead-bride",
   "metadata": {},
   "outputs": [],
   "source": []
  },
  {
   "cell_type": "markdown",
   "id": "interim-suggestion",
   "metadata": {},
   "source": [
    "## K-NN & Regression"
   ]
  },
  {
   "cell_type": "markdown",
   "id": "indirect-algorithm",
   "metadata": {},
   "source": [
    "#### Prediction"
   ]
  },
  {
   "cell_type": "code",
   "execution_count": null,
   "id": "aware-jamaica",
   "metadata": {},
   "outputs": [],
   "source": []
  },
  {
   "cell_type": "markdown",
   "id": "emerging-scoop",
   "metadata": {},
   "source": [
    "#### Cosign Similarity"
   ]
  },
  {
   "cell_type": "code",
   "execution_count": null,
   "id": "acknowledged-catalyst",
   "metadata": {},
   "outputs": [],
   "source": []
  },
  {
   "cell_type": "markdown",
   "id": "bearing-street",
   "metadata": {},
   "source": [
    "#### \"Good\" Features"
   ]
  },
  {
   "cell_type": "code",
   "execution_count": null,
   "id": "split-arthur",
   "metadata": {},
   "outputs": [],
   "source": []
  },
  {
   "cell_type": "markdown",
   "id": "racial-headset",
   "metadata": {},
   "source": [
    "## K-NN Machine Learning Use Cases\n",
    "#### ...And Limitations"
   ]
  },
  {
   "cell_type": "code",
   "execution_count": null,
   "id": "fitting-consolidation",
   "metadata": {},
   "outputs": [],
   "source": []
  },
  {
   "cell_type": "markdown",
   "id": "presidential-glass",
   "metadata": {},
   "source": [
    "#### OCR"
   ]
  },
  {
   "cell_type": "code",
   "execution_count": null,
   "id": "frank-chart",
   "metadata": {},
   "outputs": [],
   "source": []
  },
  {
   "cell_type": "markdown",
   "id": "checked-visitor",
   "metadata": {},
   "source": [
    "#### Spam Filter"
   ]
  },
  {
   "cell_type": "code",
   "execution_count": null,
   "id": "streaming-entity",
   "metadata": {},
   "outputs": [],
   "source": []
  },
  {
   "cell_type": "markdown",
   "id": "handmade-makeup",
   "metadata": {},
   "source": [
    "#### Stock Market Predictions"
   ]
  },
  {
   "cell_type": "code",
   "execution_count": null,
   "id": "brazilian-rhythm",
   "metadata": {},
   "outputs": [],
   "source": []
  },
  {
   "cell_type": "markdown",
   "id": "cosmetic-tooth",
   "metadata": {},
   "source": [
    "## K-NN Challenge"
   ]
  },
  {
   "cell_type": "code",
   "execution_count": null,
   "id": "boolean-adelaide",
   "metadata": {},
   "outputs": [],
   "source": []
  }
 ],
 "metadata": {
  "kernelspec": {
   "display_name": "Python 3",
   "language": "python",
   "name": "python3"
  },
  "language_info": {
   "codemirror_mode": {
    "name": "ipython",
    "version": 3
   },
   "file_extension": ".py",
   "mimetype": "text/x-python",
   "name": "python",
   "nbconvert_exporter": "python",
   "pygments_lexer": "ipython3",
   "version": "3.8.5"
  }
 },
 "nbformat": 4,
 "nbformat_minor": 5
}
